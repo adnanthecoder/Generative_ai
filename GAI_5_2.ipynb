{
  "nbformat": 4,
  "nbformat_minor": 0,
  "metadata": {
    "colab": {
      "provenance": [],
      "authorship_tag": "ABX9TyOVBhJX5DALbDwuxhr5VzJw",
      "include_colab_link": true
    },
    "kernelspec": {
      "name": "python3",
      "display_name": "Python 3"
    },
    "language_info": {
      "name": "python"
    }
  },
  "cells": [
    {
      "cell_type": "markdown",
      "metadata": {
        "id": "view-in-github",
        "colab_type": "text"
      },
      "source": [
        "<a href=\"https://colab.research.google.com/github/adnanthecoder/Generative_ai/blob/main/GAI_5_2.ipynb\" target=\"_parent\"><img src=\"https://colab.research.google.com/assets/colab-badge.svg\" alt=\"Open In Colab\"/></a>"
      ]
    },
    {
      "cell_type": "code",
      "execution_count": null,
      "metadata": {
        "colab": {
          "base_uri": "https://localhost:8080/"
        },
        "id": "onAs-k_TSLcZ",
        "outputId": "9aac1386-c009-4a3a-bbc5-a9b4a936d9c4"
      },
      "outputs": [
        {
          "output_type": "stream",
          "name": "stdout",
          "text": [
            "Epoch 0, Loss: 2.728184\n",
            "Epoch 1000, Loss: 0.000000\n",
            "Epoch 2000, Loss: 0.000000\n",
            "Epoch 3000, Loss: 0.000000\n",
            "Epoch 4000, Loss: 0.000000\n",
            "Epoch 5000, Loss: 0.000000\n",
            "Epoch 6000, Loss: 0.000000\n",
            "Epoch 7000, Loss: 0.000000\n",
            "Epoch 8000, Loss: 0.000000\n",
            "Epoch 9000, Loss: 0.000000\n",
            "Test Loss: 0.000000\n"
          ]
        }
      ],
      "source": [
        "import numpy as np\n",
        "\n",
        "# Sigmoid activation function and its derivative\n",
        "def sigmoid(x):\n",
        "    return 1 / (1 + np.exp(-x))\n",
        "\n",
        "def sigmoid_derivative(x):\n",
        "    return x * (1 - x)\n",
        "\n",
        "# Mean Squared Error\n",
        "def mean_squared_error(y_true, y_pred):\n",
        "    return np.mean((y_true - y_pred) ** 2)\n",
        "\n",
        "# Training Data\n",
        "X_train = np.array([[0.2, 0.1], [0.3, 0.2], [0.4, 0.3], [0.7, 0.6], [0.8, 0.7], [0.9, 0.8]])\n",
        "y_train = np.array([[0.3441], [0.3500], [0.3558], [0.3729], [0.3785], [0.3841]])\n",
        "\n",
        "# Test Data\n",
        "X_test = np.array([[0.5, 0.4], [0.6, 0.5]])\n",
        "y_test = np.array([[0.3615], [0.3672]])\n",
        "\n",
        "# ANN architecture\n",
        "input_size = 2\n",
        "hidden_size = 3  # Number of neurons in hidden layer\n",
        "output_size = 1\n",
        "learning_rate = 0.1\n",
        "epochs = 10000\n",
        "\n",
        "# Initialize weights and biases\n",
        "np.random.seed(42)\n",
        "weights_input_hidden = np.random.rand(input_size, hidden_size)\n",
        "bias_hidden = np.random.rand(1, hidden_size)\n",
        "weights_hidden_output = np.random.rand(hidden_size, output_size)\n",
        "bias_output = np.random.rand(1, output_size)\n",
        "\n",
        "# Training loop\n",
        "for epoch in range(epochs):\n",
        "    # Forward pass\n",
        "    hidden_layer_input = np.dot(X_train, weights_input_hidden) + bias_hidden\n",
        "    hidden_layer_output = sigmoid(hidden_layer_input)\n",
        "    output_layer_input = np.dot(hidden_layer_output, weights_hidden_output) + bias_output\n",
        "    output_layer_output = output_layer_input  # Linear activation function\n",
        "\n",
        "    # Compute error\n",
        "    error = y_train - output_layer_output\n",
        "\n",
        "    # Backpropagation\n",
        "    output_layer_gradient = error  # Derivative of linear activation is 1\n",
        "    weights_hidden_output += learning_rate * np.dot(hidden_layer_output.T, output_layer_gradient)\n",
        "    bias_output += learning_rate * np.sum(output_layer_gradient, axis=0, keepdims=True)\n",
        "\n",
        "    hidden_layer_error = np.dot(output_layer_gradient, weights_hidden_output.T)\n",
        "    hidden_layer_gradient = hidden_layer_error * sigmoid_derivative(hidden_layer_output)\n",
        "    weights_input_hidden += learning_rate * np.dot(X_train.T, hidden_layer_gradient)\n",
        "    bias_hidden += learning_rate * np.sum(hidden_layer_gradient, axis=0, keepdims=True)\n",
        "\n",
        "    # Print loss every 1000 epochs\n",
        "    if epoch % 1000 == 0:\n",
        "        loss = mean_squared_error(y_train, output_layer_output)\n",
        "        print(f'Epoch {epoch}, Loss: {loss:.6f}')\n",
        "\n",
        "# Testing\n",
        "hidden_layer_input_test = np.dot(X_test, weights_input_hidden) + bias_hidden\n",
        "hidden_layer_output_test = sigmoid(hidden_layer_input_test)\n",
        "output_layer_input_test = np.dot(hidden_layer_output_test, weights_hidden_output) + bias_output\n",
        "predictions = output_layer_input_test\n",
        "\n",
        "test_loss = mean_squared_error(y_test, predictions)\n",
        "print(f'Test Loss: {test_loss:.6f}')\n",
        "\n",
        "# Predict user input\n",
        "def predict(x1, x2):\n",
        "    X_input = np.array([[x1, x2]])\n",
        "    hidden_input = np.dot(X_input, weights_input_hidden) + bias_hidden\n",
        "    hidden_output = sigmoid(hidden_input)\n",
        "    output_input = np.dot(hidden_output, weights_hidden_output) + bias_output\n",
        "    return output_input[0, 0]\n",
        "\n",
        "x1, x2 = map(float, input(\"Enter x1 and x2 values: \").split())\n",
        "print(f'Predicted output: {predict(x1, x2):.6f}')\n"
      ]
    },
    {
      "cell_type": "code",
      "source": [],
      "metadata": {
        "id": "KFWknUMxSOgf"
      },
      "execution_count": null,
      "outputs": []
    }
  ]
}